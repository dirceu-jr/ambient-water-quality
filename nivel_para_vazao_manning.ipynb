{
  "nbformat": 4,
  "nbformat_minor": 0,
  "metadata": {
    "anaconda-cloud": {},
    "kernelspec": {
      "display_name": "Python 3",
      "language": "python",
      "name": "python3"
    },
    "language_info": {
      "codemirror_mode": {
        "name": "ipython",
        "version": 3
      },
      "file_extension": ".py",
      "mimetype": "text/x-python",
      "name": "python",
      "nbconvert_exporter": "python",
      "pygments_lexer": "ipython3",
      "version": "3.7.5"
    },
    "colab": {
      "name": "nivel_para_vazao_manning.ipynb",
      "provenance": [],
      "include_colab_link": true
    }
  },
  "cells": [
    {
      "cell_type": "markdown",
      "metadata": {
        "id": "view-in-github",
        "colab_type": "text"
      },
      "source": [
        "<a href=\"https://colab.research.google.com/github/nayanammm/remote_hydrometeorological_monitoring_system/blob/master/nivel_para_vazao_manning.ipynb\" target=\"_parent\"><img src=\"https://colab.research.google.com/assets/colab-badge.svg\" alt=\"Open In Colab\"/></a>"
      ]
    },
    {
      "cell_type": "markdown",
      "metadata": {
        "id": "ocR-NYYcKrgO"
      },
      "source": [
        "# Trabalhando com dados Fluviométricos do Córrego da Pedreira \n",
        "\n",
        "Os dados de vazão são essenciais para avaliação do balanço hidrológico em bacias hidrográficas. Entretanto, realizar medições fluviométricas diretas periodicamente é um desafio, devido aos custos operacionais. Sendo assim, uma forma indireta de obter dados de vazão é medindo a altura da lâmina d'água e a área da seção transversal do escoamento. A leitura do nível d'água pode ser obtida de maneira automática com  sensores eletrônicos. \n",
        "\n",
        "A figura abaixo à direita ilustra um sensor ultrassônico instalado em uma seção canalizada do córrego da Pedreira, um afluente do rio Belém. O sistema de medição registra a leitura da distância entre o sensor e a lâmina d'água (linha vermelha na figura da esquerda abaixo). Os dados são obtidos periodicamente e salvos em um cartão de memória.\n",
        "\n",
        "<img src=\"https://drive.google.com/uc?export=view&id=18XqiiHUHq3MoV3koqn0Oq9ggqNTnW-5U\" width=\"300\"/> <img src=\"https://drive.google.com/uc?export=view&id=1NiGpdaX1CgtGZbSxDFo2gf-GNbjd-x8g\" width=\"300\"/> \n",
        "\n",
        "\n"
      ]
    },
    {
      "cell_type": "markdown",
      "metadata": {
        "id": "JK0rCn5M7yYE"
      },
      "source": [
        "Com a utilização do sensor ultrassônico, foram realizadas leituras de nível em intervalos de 15 segundos, entre os dias 05/08 e 30/08.\n",
        "Analisando os dados brutos observam-se alguns dados espúrios, necessitando que os mesmos sejam tratados e filtrados antes de serem utilizandos para os cálculos de vazão. \n",
        "\n",
        "**Exercício I:** Organizar os dados de medição de nível, seguindo os seguintes passos:\n",
        "\n",
        "1. Leitura dos dados de distância (linha vermelha da figura acima à esquerda) do arquivo CSV. O arquivo CSV contém uma coluna para a data e hora (no formado ddmmaaaa HH:MM:SS) e outra coluna com os dados de distância em centímetros. Você pode acessá-lo no link:(https://www.dropbox.com/s/htfwy819slzcxkt/dados_ultrassonico.csv?dl=0). **Nessa seção deverá ser realizado os seguintes procedimentos:**\n",
        "\n",
        "**a) Criar um Dataframe e nomear o título das colunas de acordo com a lista: ['data_hora','dist_cm']**\n",
        "\n",
        "**b) Definir a coluna 'data_hora' como o índice do dataframe.**\n",
        "\n",
        "**c) configurar a  coluna 'data_hora'  como o formato de data padrão: aaaa-mm-dd HH:MM:SS**\n",
        "\n",
        "2. Filtragem dos dados espúrios (errôneos). Existem algumas medições onde a distância foi registrada como zero e outras medições em que a distância aparece maior do que 100 cm. O filtro deve ser construído para retirar os valores zero e os valores acima de 100 cm. **Nessa seção pode-se identificar quantas linhas foram retiradas do Dataframe**\n",
        "\n",
        "3. Calcular os valores de nível com base nas medições de distância considerando a distância total entre o sensor e o fundo do canal de 83,80 centímetros (linha verde da figura acima à esquerda). **Nessa seção deve-se criar uma nova coluna no Dataframe intitulada 'dist_cm' com altura da lâmina d'água para cada medição. Além disso, deverá ser calculada a média do nível d'água.**\n",
        "\n",
        "\n",
        "4. Calcular a Média horária dos dados de nível. Não é para calcular o perfil diário (média horária de todos os dias). É para calcular a média de cada intervalo de 60 minutos entre os dias 22-12-2020 e 22-03-2021. **Nessa seção o/deve-se criar um gráfico das médias horárias ao longo do tempo**\n",
        "\n",
        "5. Calcular a Média diária dos dados de nível. **Nessa seção deve-se criar um gráfico das médias diárias ao longo do tempo**\n",
        "\n"
      ]
    },
    {
      "cell_type": "markdown",
      "metadata": {
        "id": "VikvseXT_DQk"
      },
      "source": [
        "### 1. Leitura dos dados da distância do sensor até a lâmina d'água (medidas em campo com o sensor ultrassônico)\n",
        "\n"
      ]
    },
    {
      "cell_type": "code",
      "metadata": {
        "id": "aG4ZWgXy_DQM"
      },
      "source": [
        "from matplotlib import pyplot as plt\n",
        "import matplotlib.dates as mdates\n",
        "import numpy\n",
        "import pandas\n",
        "%matplotlib inline  "
      ],
      "execution_count": null,
      "outputs": []
    },
    {
      "cell_type": "code",
      "metadata": {
        "id": "jgngOaEKl8XK",
        "colab": {
          "base_uri": "https://localhost:8080/"
        },
        "outputId": "2d964a04-0b4d-47d8-e28f-878a087cd742"
      },
      "source": [
        "from urllib.request import urlretrieve\n",
        "URL = 'https://www.dropbox.com/s/3e4xgkztofh28vg/nivel_05_08_30_09.csv?dl=1'\n",
        "urlretrieve(URL, 'nivel_05_08_30_09.csv')\n"
      ],
      "execution_count": null,
      "outputs": [
        {
          "output_type": "execute_result",
          "data": {
            "text/plain": [
              "('nivel_05_08_30_09.csv', <http.client.HTTPMessage at 0x7f27fa7e1d30>)"
            ]
          },
          "metadata": {
            "tags": []
          },
          "execution_count": 2
        }
      ]
    },
    {
      "cell_type": "code",
      "metadata": {
        "colab": {
          "base_uri": "https://localhost:8080/",
          "height": 227
        },
        "id": "H2ckkrGiwNmx",
        "outputId": "119f4eef-9dac-4a84-e284-bc890ad2195f"
      },
      "source": [
        "dateparse = lambda x: pandas.datetime.strptime(x, '%d-%m-%Y')\n",
        "\n",
        "dados=pandas.read_csv(URL,sep=';',index_col=0, parse_dates=['data'], date_parser=dateparse)\n",
        "\n",
        "dados[0:3]"
      ],
      "execution_count": null,
      "outputs": [
        {
          "output_type": "stream",
          "text": [
            "/usr/local/lib/python3.6/dist-packages/ipykernel_launcher.py:1: FutureWarning: The pandas.datetime class is deprecated and will be removed from pandas in a future version. Import from datetime instead.\n",
            "  \"\"\"Entry point for launching an IPython kernel.\n"
          ],
          "name": "stderr"
        },
        {
          "output_type": "execute_result",
          "data": {
            "text/html": [
              "<div>\n",
              "<style scoped>\n",
              "    .dataframe tbody tr th:only-of-type {\n",
              "        vertical-align: middle;\n",
              "    }\n",
              "\n",
              "    .dataframe tbody tr th {\n",
              "        vertical-align: top;\n",
              "    }\n",
              "\n",
              "    .dataframe thead th {\n",
              "        text-align: right;\n",
              "    }\n",
              "</style>\n",
              "<table border=\"1\" class=\"dataframe\">\n",
              "  <thead>\n",
              "    <tr style=\"text-align: right;\">\n",
              "      <th></th>\n",
              "      <th>dist_cm</th>\n",
              "      <th>nivel_cm</th>\n",
              "    </tr>\n",
              "    <tr>\n",
              "      <th>data</th>\n",
              "      <th></th>\n",
              "      <th></th>\n",
              "    </tr>\n",
              "  </thead>\n",
              "  <tbody>\n",
              "    <tr>\n",
              "      <th>2020-08-05</th>\n",
              "      <td>65.10</td>\n",
              "      <td>18.70</td>\n",
              "    </tr>\n",
              "    <tr>\n",
              "      <th>2020-08-05</th>\n",
              "      <td>65.04</td>\n",
              "      <td>18.76</td>\n",
              "    </tr>\n",
              "    <tr>\n",
              "      <th>2020-08-05</th>\n",
              "      <td>65.20</td>\n",
              "      <td>18.60</td>\n",
              "    </tr>\n",
              "  </tbody>\n",
              "</table>\n",
              "</div>"
            ],
            "text/plain": [
              "            dist_cm  nivel_cm\n",
              "data                         \n",
              "2020-08-05    65.10     18.70\n",
              "2020-08-05    65.04     18.76\n",
              "2020-08-05    65.20     18.60"
            ]
          },
          "metadata": {
            "tags": []
          },
          "execution_count": 3
        }
      ]
    },
    {
      "cell_type": "markdown",
      "metadata": {
        "id": "u-_xmwKMpKKn"
      },
      "source": [
        "## CONVERTER INDEX IN DATETIME"
      ]
    },
    {
      "cell_type": "code",
      "metadata": {
        "id": "oKVR3Z0at6I5"
      },
      "source": [
        "#dados['data_hora'].pandas.datetime\n",
        "dados.index = pandas.to_datetime(dados.index)"
      ],
      "execution_count": null,
      "outputs": []
    },
    {
      "cell_type": "code",
      "metadata": {
        "colab": {
          "base_uri": "https://localhost:8080/",
          "height": 450
        },
        "id": "bb6w6lFRpGmX",
        "outputId": "58759427-792c-4c14-a798-e3272a44f874"
      },
      "source": [
        "dados"
      ],
      "execution_count": null,
      "outputs": [
        {
          "output_type": "execute_result",
          "data": {
            "text/html": [
              "<div>\n",
              "<style scoped>\n",
              "    .dataframe tbody tr th:only-of-type {\n",
              "        vertical-align: middle;\n",
              "    }\n",
              "\n",
              "    .dataframe tbody tr th {\n",
              "        vertical-align: top;\n",
              "    }\n",
              "\n",
              "    .dataframe thead th {\n",
              "        text-align: right;\n",
              "    }\n",
              "</style>\n",
              "<table border=\"1\" class=\"dataframe\">\n",
              "  <thead>\n",
              "    <tr style=\"text-align: right;\">\n",
              "      <th></th>\n",
              "      <th>dist_cm</th>\n",
              "      <th>nivel_cm</th>\n",
              "    </tr>\n",
              "    <tr>\n",
              "      <th>data</th>\n",
              "      <th></th>\n",
              "      <th></th>\n",
              "    </tr>\n",
              "  </thead>\n",
              "  <tbody>\n",
              "    <tr>\n",
              "      <th>2020-08-05</th>\n",
              "      <td>65.10</td>\n",
              "      <td>18.70</td>\n",
              "    </tr>\n",
              "    <tr>\n",
              "      <th>2020-08-05</th>\n",
              "      <td>65.04</td>\n",
              "      <td>18.76</td>\n",
              "    </tr>\n",
              "    <tr>\n",
              "      <th>2020-08-05</th>\n",
              "      <td>65.20</td>\n",
              "      <td>18.60</td>\n",
              "    </tr>\n",
              "    <tr>\n",
              "      <th>2020-08-05</th>\n",
              "      <td>64.95</td>\n",
              "      <td>18.85</td>\n",
              "    </tr>\n",
              "    <tr>\n",
              "      <th>2020-08-05</th>\n",
              "      <td>65.03</td>\n",
              "      <td>18.77</td>\n",
              "    </tr>\n",
              "    <tr>\n",
              "      <th>...</th>\n",
              "      <td>...</td>\n",
              "      <td>...</td>\n",
              "    </tr>\n",
              "    <tr>\n",
              "      <th>2020-09-30</th>\n",
              "      <td>69.23</td>\n",
              "      <td>14.57</td>\n",
              "    </tr>\n",
              "    <tr>\n",
              "      <th>2020-09-30</th>\n",
              "      <td>68.86</td>\n",
              "      <td>14.94</td>\n",
              "    </tr>\n",
              "    <tr>\n",
              "      <th>2020-09-30</th>\n",
              "      <td>69.77</td>\n",
              "      <td>14.03</td>\n",
              "    </tr>\n",
              "    <tr>\n",
              "      <th>2020-09-30</th>\n",
              "      <td>69.11</td>\n",
              "      <td>14.69</td>\n",
              "    </tr>\n",
              "    <tr>\n",
              "      <th>2020-09-30</th>\n",
              "      <td>69.48</td>\n",
              "      <td>14.32</td>\n",
              "    </tr>\n",
              "  </tbody>\n",
              "</table>\n",
              "<p>5070 rows × 2 columns</p>\n",
              "</div>"
            ],
            "text/plain": [
              "            dist_cm  nivel_cm\n",
              "data                         \n",
              "2020-08-05    65.10     18.70\n",
              "2020-08-05    65.04     18.76\n",
              "2020-08-05    65.20     18.60\n",
              "2020-08-05    64.95     18.85\n",
              "2020-08-05    65.03     18.77\n",
              "...             ...       ...\n",
              "2020-09-30    69.23     14.57\n",
              "2020-09-30    68.86     14.94\n",
              "2020-09-30    69.77     14.03\n",
              "2020-09-30    69.11     14.69\n",
              "2020-09-30    69.48     14.32\n",
              "\n",
              "[5070 rows x 2 columns]"
            ]
          },
          "metadata": {
            "tags": []
          },
          "execution_count": 5
        }
      ]
    },
    {
      "cell_type": "markdown",
      "metadata": {
        "id": "ZgW_U-MUlEsw"
      },
      "source": [
        "###2.Filtragem dos dados espúrios"
      ]
    },
    {
      "cell_type": "code",
      "metadata": {
        "id": "OHO-_yxDpLCl",
        "colab": {
          "base_uri": "https://localhost:8080/"
        },
        "outputId": "9cec017b-88f2-4ce1-cb3e-cef9790d96b3"
      },
      "source": [
        "type(dados)"
      ],
      "execution_count": null,
      "outputs": [
        {
          "output_type": "execute_result",
          "data": {
            "text/plain": [
              "pandas.core.frame.DataFrame"
            ]
          },
          "metadata": {
            "tags": []
          },
          "execution_count": 6
        }
      ]
    },
    {
      "cell_type": "code",
      "metadata": {
        "id": "iDqsvKxqpST7",
        "colab": {
          "base_uri": "https://localhost:8080/",
          "height": 450
        },
        "outputId": "3af3cd2e-8bfa-45bf-9699-51b938ba29d1"
      },
      "source": [
        "dados_filtrados = dados.loc[(dados['dist_cm'] > 1.0) & (dados['dist_cm'] < 100.0)]\n",
        "dados_filtrados"
      ],
      "execution_count": null,
      "outputs": [
        {
          "output_type": "execute_result",
          "data": {
            "text/html": [
              "<div>\n",
              "<style scoped>\n",
              "    .dataframe tbody tr th:only-of-type {\n",
              "        vertical-align: middle;\n",
              "    }\n",
              "\n",
              "    .dataframe tbody tr th {\n",
              "        vertical-align: top;\n",
              "    }\n",
              "\n",
              "    .dataframe thead th {\n",
              "        text-align: right;\n",
              "    }\n",
              "</style>\n",
              "<table border=\"1\" class=\"dataframe\">\n",
              "  <thead>\n",
              "    <tr style=\"text-align: right;\">\n",
              "      <th></th>\n",
              "      <th>dist_cm</th>\n",
              "      <th>nivel_cm</th>\n",
              "    </tr>\n",
              "    <tr>\n",
              "      <th>data</th>\n",
              "      <th></th>\n",
              "      <th></th>\n",
              "    </tr>\n",
              "  </thead>\n",
              "  <tbody>\n",
              "    <tr>\n",
              "      <th>2020-08-05</th>\n",
              "      <td>65.10</td>\n",
              "      <td>18.70</td>\n",
              "    </tr>\n",
              "    <tr>\n",
              "      <th>2020-08-05</th>\n",
              "      <td>65.04</td>\n",
              "      <td>18.76</td>\n",
              "    </tr>\n",
              "    <tr>\n",
              "      <th>2020-08-05</th>\n",
              "      <td>65.20</td>\n",
              "      <td>18.60</td>\n",
              "    </tr>\n",
              "    <tr>\n",
              "      <th>2020-08-05</th>\n",
              "      <td>64.95</td>\n",
              "      <td>18.85</td>\n",
              "    </tr>\n",
              "    <tr>\n",
              "      <th>2020-08-05</th>\n",
              "      <td>65.03</td>\n",
              "      <td>18.77</td>\n",
              "    </tr>\n",
              "    <tr>\n",
              "      <th>...</th>\n",
              "      <td>...</td>\n",
              "      <td>...</td>\n",
              "    </tr>\n",
              "    <tr>\n",
              "      <th>2020-09-30</th>\n",
              "      <td>69.23</td>\n",
              "      <td>14.57</td>\n",
              "    </tr>\n",
              "    <tr>\n",
              "      <th>2020-09-30</th>\n",
              "      <td>68.86</td>\n",
              "      <td>14.94</td>\n",
              "    </tr>\n",
              "    <tr>\n",
              "      <th>2020-09-30</th>\n",
              "      <td>69.77</td>\n",
              "      <td>14.03</td>\n",
              "    </tr>\n",
              "    <tr>\n",
              "      <th>2020-09-30</th>\n",
              "      <td>69.11</td>\n",
              "      <td>14.69</td>\n",
              "    </tr>\n",
              "    <tr>\n",
              "      <th>2020-09-30</th>\n",
              "      <td>69.48</td>\n",
              "      <td>14.32</td>\n",
              "    </tr>\n",
              "  </tbody>\n",
              "</table>\n",
              "<p>5010 rows × 2 columns</p>\n",
              "</div>"
            ],
            "text/plain": [
              "            dist_cm  nivel_cm\n",
              "data                         \n",
              "2020-08-05    65.10     18.70\n",
              "2020-08-05    65.04     18.76\n",
              "2020-08-05    65.20     18.60\n",
              "2020-08-05    64.95     18.85\n",
              "2020-08-05    65.03     18.77\n",
              "...             ...       ...\n",
              "2020-09-30    69.23     14.57\n",
              "2020-09-30    68.86     14.94\n",
              "2020-09-30    69.77     14.03\n",
              "2020-09-30    69.11     14.69\n",
              "2020-09-30    69.48     14.32\n",
              "\n",
              "[5010 rows x 2 columns]"
            ]
          },
          "metadata": {
            "tags": []
          },
          "execution_count": 7
        }
      ]
    },
    {
      "cell_type": "code",
      "metadata": {
        "id": "4kbDENJfkyld",
        "colab": {
          "base_uri": "https://localhost:8080/"
        },
        "outputId": "c8410a63-55ef-4584-8bdb-f553a051fbaa"
      },
      "source": [
        "len(dados)"
      ],
      "execution_count": null,
      "outputs": [
        {
          "output_type": "execute_result",
          "data": {
            "text/plain": [
              "5070"
            ]
          },
          "metadata": {
            "tags": []
          },
          "execution_count": 8
        }
      ]
    },
    {
      "cell_type": "code",
      "metadata": {
        "id": "ENUlJOvOOOOE",
        "colab": {
          "base_uri": "https://localhost:8080/"
        },
        "outputId": "7cfed48a-c8b5-41f2-ce34-4f080a6b6d37"
      },
      "source": [
        "len(dados_filtrados)"
      ],
      "execution_count": null,
      "outputs": [
        {
          "output_type": "execute_result",
          "data": {
            "text/plain": [
              "5010"
            ]
          },
          "metadata": {
            "tags": []
          },
          "execution_count": 9
        }
      ]
    },
    {
      "cell_type": "code",
      "metadata": {
        "id": "LisCN1kqM9ul",
        "colab": {
          "base_uri": "https://localhost:8080/"
        },
        "outputId": "2aca52f4-3f9b-463a-e228-c6529fdefaa0"
      },
      "source": [
        "print(len(dados)-len(dados_filtrados))"
      ],
      "execution_count": null,
      "outputs": [
        {
          "output_type": "stream",
          "text": [
            "60\n"
          ],
          "name": "stdout"
        }
      ]
    },
    {
      "cell_type": "markdown",
      "metadata": {
        "id": "gODLe3wTI4eF"
      },
      "source": [
        "3. Cálculo do Nível"
      ]
    },
    {
      "cell_type": "code",
      "metadata": {
        "id": "WIkj49qUPWqk",
        "colab": {
          "base_uri": "https://localhost:8080/"
        },
        "outputId": "e3bb7ad4-2362-45d5-d3b0-ecfa496a428d"
      },
      "source": [
        "dados_filtrados['nivel_cm'] = 83.80 - dados_filtrados['dist_cm']"
      ],
      "execution_count": null,
      "outputs": [
        {
          "output_type": "stream",
          "text": [
            "/usr/local/lib/python3.6/dist-packages/ipykernel_launcher.py:1: SettingWithCopyWarning: \n",
            "A value is trying to be set on a copy of a slice from a DataFrame.\n",
            "Try using .loc[row_indexer,col_indexer] = value instead\n",
            "\n",
            "See the caveats in the documentation: https://pandas.pydata.org/pandas-docs/stable/user_guide/indexing.html#returning-a-view-versus-a-copy\n",
            "  \"\"\"Entry point for launching an IPython kernel.\n"
          ],
          "name": "stderr"
        }
      ]
    },
    {
      "cell_type": "code",
      "metadata": {
        "id": "hxtS7GjSJMWK",
        "colab": {
          "base_uri": "https://localhost:8080/",
          "height": 450
        },
        "outputId": "52288aac-6786-4a41-b73b-c9451fcdd9d7"
      },
      "source": [
        "dados_filtrados"
      ],
      "execution_count": null,
      "outputs": [
        {
          "output_type": "execute_result",
          "data": {
            "text/html": [
              "<div>\n",
              "<style scoped>\n",
              "    .dataframe tbody tr th:only-of-type {\n",
              "        vertical-align: middle;\n",
              "    }\n",
              "\n",
              "    .dataframe tbody tr th {\n",
              "        vertical-align: top;\n",
              "    }\n",
              "\n",
              "    .dataframe thead th {\n",
              "        text-align: right;\n",
              "    }\n",
              "</style>\n",
              "<table border=\"1\" class=\"dataframe\">\n",
              "  <thead>\n",
              "    <tr style=\"text-align: right;\">\n",
              "      <th></th>\n",
              "      <th>dist_cm</th>\n",
              "      <th>nivel_cm</th>\n",
              "    </tr>\n",
              "    <tr>\n",
              "      <th>data</th>\n",
              "      <th></th>\n",
              "      <th></th>\n",
              "    </tr>\n",
              "  </thead>\n",
              "  <tbody>\n",
              "    <tr>\n",
              "      <th>2020-08-05</th>\n",
              "      <td>65.10</td>\n",
              "      <td>18.70</td>\n",
              "    </tr>\n",
              "    <tr>\n",
              "      <th>2020-08-05</th>\n",
              "      <td>65.04</td>\n",
              "      <td>18.76</td>\n",
              "    </tr>\n",
              "    <tr>\n",
              "      <th>2020-08-05</th>\n",
              "      <td>65.20</td>\n",
              "      <td>18.60</td>\n",
              "    </tr>\n",
              "    <tr>\n",
              "      <th>2020-08-05</th>\n",
              "      <td>64.95</td>\n",
              "      <td>18.85</td>\n",
              "    </tr>\n",
              "    <tr>\n",
              "      <th>2020-08-05</th>\n",
              "      <td>65.03</td>\n",
              "      <td>18.77</td>\n",
              "    </tr>\n",
              "    <tr>\n",
              "      <th>...</th>\n",
              "      <td>...</td>\n",
              "      <td>...</td>\n",
              "    </tr>\n",
              "    <tr>\n",
              "      <th>2020-09-30</th>\n",
              "      <td>69.23</td>\n",
              "      <td>14.57</td>\n",
              "    </tr>\n",
              "    <tr>\n",
              "      <th>2020-09-30</th>\n",
              "      <td>68.86</td>\n",
              "      <td>14.94</td>\n",
              "    </tr>\n",
              "    <tr>\n",
              "      <th>2020-09-30</th>\n",
              "      <td>69.77</td>\n",
              "      <td>14.03</td>\n",
              "    </tr>\n",
              "    <tr>\n",
              "      <th>2020-09-30</th>\n",
              "      <td>69.11</td>\n",
              "      <td>14.69</td>\n",
              "    </tr>\n",
              "    <tr>\n",
              "      <th>2020-09-30</th>\n",
              "      <td>69.48</td>\n",
              "      <td>14.32</td>\n",
              "    </tr>\n",
              "  </tbody>\n",
              "</table>\n",
              "<p>5010 rows × 2 columns</p>\n",
              "</div>"
            ],
            "text/plain": [
              "            dist_cm  nivel_cm\n",
              "data                         \n",
              "2020-08-05    65.10     18.70\n",
              "2020-08-05    65.04     18.76\n",
              "2020-08-05    65.20     18.60\n",
              "2020-08-05    64.95     18.85\n",
              "2020-08-05    65.03     18.77\n",
              "...             ...       ...\n",
              "2020-09-30    69.23     14.57\n",
              "2020-09-30    68.86     14.94\n",
              "2020-09-30    69.77     14.03\n",
              "2020-09-30    69.11     14.69\n",
              "2020-09-30    69.48     14.32\n",
              "\n",
              "[5010 rows x 2 columns]"
            ]
          },
          "metadata": {
            "tags": []
          },
          "execution_count": 12
        }
      ]
    },
    {
      "cell_type": "code",
      "metadata": {
        "id": "yJnfaDvgJVzA",
        "colab": {
          "base_uri": "https://localhost:8080/"
        },
        "outputId": "82e57161-f02a-44ae-8847-a9470631816f"
      },
      "source": [
        "dados_filtrados['nivel_cm'].mean()"
      ],
      "execution_count": null,
      "outputs": [
        {
          "output_type": "execute_result",
          "data": {
            "text/plain": [
              "15.186139720558916"
            ]
          },
          "metadata": {
            "tags": []
          },
          "execution_count": 13
        }
      ]
    },
    {
      "cell_type": "markdown",
      "metadata": {
        "id": "dmKNMSw5KFdD"
      },
      "source": [
        "4. Média Horária"
      ]
    },
    {
      "cell_type": "code",
      "metadata": {
        "id": "umbvuthtijCG"
      },
      "source": [
        "medias = dados_filtrados.resample('1d').mean()"
      ],
      "execution_count": null,
      "outputs": []
    },
    {
      "cell_type": "code",
      "metadata": {
        "colab": {
          "base_uri": "https://localhost:8080/",
          "height": 1000
        },
        "id": "SsODOkT_ipPy",
        "outputId": "9d3ee4dd-b0e1-443e-ffea-328af7c68dfa"
      },
      "source": [
        "medias"
      ],
      "execution_count": null,
      "outputs": [
        {
          "output_type": "execute_result",
          "data": {
            "text/html": [
              "<div>\n",
              "<style scoped>\n",
              "    .dataframe tbody tr th:only-of-type {\n",
              "        vertical-align: middle;\n",
              "    }\n",
              "\n",
              "    .dataframe tbody tr th {\n",
              "        vertical-align: top;\n",
              "    }\n",
              "\n",
              "    .dataframe thead th {\n",
              "        text-align: right;\n",
              "    }\n",
              "</style>\n",
              "<table border=\"1\" class=\"dataframe\">\n",
              "  <thead>\n",
              "    <tr style=\"text-align: right;\">\n",
              "      <th></th>\n",
              "      <th>dist_cm</th>\n",
              "      <th>nivel_cm</th>\n",
              "    </tr>\n",
              "    <tr>\n",
              "      <th>data</th>\n",
              "      <th></th>\n",
              "      <th></th>\n",
              "    </tr>\n",
              "  </thead>\n",
              "  <tbody>\n",
              "    <tr>\n",
              "      <th>2020-08-05</th>\n",
              "      <td>65.107778</td>\n",
              "      <td>18.692222</td>\n",
              "    </tr>\n",
              "    <tr>\n",
              "      <th>2020-08-06</th>\n",
              "      <td>64.665532</td>\n",
              "      <td>19.134468</td>\n",
              "    </tr>\n",
              "    <tr>\n",
              "      <th>2020-08-07</th>\n",
              "      <td>64.131286</td>\n",
              "      <td>19.668714</td>\n",
              "    </tr>\n",
              "    <tr>\n",
              "      <th>2020-08-08</th>\n",
              "      <td>NaN</td>\n",
              "      <td>NaN</td>\n",
              "    </tr>\n",
              "    <tr>\n",
              "      <th>2020-08-09</th>\n",
              "      <td>NaN</td>\n",
              "      <td>NaN</td>\n",
              "    </tr>\n",
              "    <tr>\n",
              "      <th>2020-08-10</th>\n",
              "      <td>68.856042</td>\n",
              "      <td>14.943958</td>\n",
              "    </tr>\n",
              "    <tr>\n",
              "      <th>2020-08-11</th>\n",
              "      <td>69.920625</td>\n",
              "      <td>13.879375</td>\n",
              "    </tr>\n",
              "    <tr>\n",
              "      <th>2020-08-12</th>\n",
              "      <td>69.569474</td>\n",
              "      <td>14.230526</td>\n",
              "    </tr>\n",
              "    <tr>\n",
              "      <th>2020-08-13</th>\n",
              "      <td>67.331474</td>\n",
              "      <td>16.468526</td>\n",
              "    </tr>\n",
              "    <tr>\n",
              "      <th>2020-08-14</th>\n",
              "      <td>68.783333</td>\n",
              "      <td>15.016667</td>\n",
              "    </tr>\n",
              "    <tr>\n",
              "      <th>2020-08-15</th>\n",
              "      <td>63.792500</td>\n",
              "      <td>20.007500</td>\n",
              "    </tr>\n",
              "    <tr>\n",
              "      <th>2020-08-16</th>\n",
              "      <td>62.945745</td>\n",
              "      <td>20.854255</td>\n",
              "    </tr>\n",
              "    <tr>\n",
              "      <th>2020-08-17</th>\n",
              "      <td>66.854842</td>\n",
              "      <td>16.945158</td>\n",
              "    </tr>\n",
              "    <tr>\n",
              "      <th>2020-08-18</th>\n",
              "      <td>63.923474</td>\n",
              "      <td>19.876526</td>\n",
              "    </tr>\n",
              "    <tr>\n",
              "      <th>2020-08-19</th>\n",
              "      <td>62.907065</td>\n",
              "      <td>20.892935</td>\n",
              "    </tr>\n",
              "    <tr>\n",
              "      <th>2020-08-20</th>\n",
              "      <td>62.661474</td>\n",
              "      <td>21.138526</td>\n",
              "    </tr>\n",
              "    <tr>\n",
              "      <th>2020-08-21</th>\n",
              "      <td>65.785275</td>\n",
              "      <td>18.014725</td>\n",
              "    </tr>\n",
              "    <tr>\n",
              "      <th>2020-08-22</th>\n",
              "      <td>67.277158</td>\n",
              "      <td>16.522842</td>\n",
              "    </tr>\n",
              "    <tr>\n",
              "      <th>2020-08-23</th>\n",
              "      <td>67.733438</td>\n",
              "      <td>16.066563</td>\n",
              "    </tr>\n",
              "    <tr>\n",
              "      <th>2020-08-24</th>\n",
              "      <td>68.381895</td>\n",
              "      <td>15.418105</td>\n",
              "    </tr>\n",
              "    <tr>\n",
              "      <th>2020-08-25</th>\n",
              "      <td>67.855158</td>\n",
              "      <td>15.944842</td>\n",
              "    </tr>\n",
              "    <tr>\n",
              "      <th>2020-08-26</th>\n",
              "      <td>67.973370</td>\n",
              "      <td>15.826630</td>\n",
              "    </tr>\n",
              "    <tr>\n",
              "      <th>2020-08-27</th>\n",
              "      <td>68.797000</td>\n",
              "      <td>15.003000</td>\n",
              "    </tr>\n",
              "    <tr>\n",
              "      <th>2020-08-28</th>\n",
              "      <td>68.135745</td>\n",
              "      <td>15.664255</td>\n",
              "    </tr>\n",
              "    <tr>\n",
              "      <th>2020-08-29</th>\n",
              "      <td>68.092903</td>\n",
              "      <td>15.707097</td>\n",
              "    </tr>\n",
              "    <tr>\n",
              "      <th>2020-08-30</th>\n",
              "      <td>68.919687</td>\n",
              "      <td>14.880312</td>\n",
              "    </tr>\n",
              "    <tr>\n",
              "      <th>2020-08-31</th>\n",
              "      <td>69.014271</td>\n",
              "      <td>14.785729</td>\n",
              "    </tr>\n",
              "    <tr>\n",
              "      <th>2020-09-01</th>\n",
              "      <td>69.222234</td>\n",
              "      <td>14.577766</td>\n",
              "    </tr>\n",
              "    <tr>\n",
              "      <th>2020-09-02</th>\n",
              "      <td>69.941354</td>\n",
              "      <td>13.858646</td>\n",
              "    </tr>\n",
              "    <tr>\n",
              "      <th>2020-09-03</th>\n",
              "      <td>69.036146</td>\n",
              "      <td>14.763854</td>\n",
              "    </tr>\n",
              "    <tr>\n",
              "      <th>2020-09-04</th>\n",
              "      <td>69.180625</td>\n",
              "      <td>14.619375</td>\n",
              "    </tr>\n",
              "    <tr>\n",
              "      <th>2020-09-05</th>\n",
              "      <td>70.039167</td>\n",
              "      <td>13.760833</td>\n",
              "    </tr>\n",
              "    <tr>\n",
              "      <th>2020-09-06</th>\n",
              "      <td>69.369271</td>\n",
              "      <td>14.430729</td>\n",
              "    </tr>\n",
              "    <tr>\n",
              "      <th>2020-09-07</th>\n",
              "      <td>69.545625</td>\n",
              "      <td>14.254375</td>\n",
              "    </tr>\n",
              "    <tr>\n",
              "      <th>2020-09-08</th>\n",
              "      <td>70.132553</td>\n",
              "      <td>13.667447</td>\n",
              "    </tr>\n",
              "    <tr>\n",
              "      <th>2020-09-09</th>\n",
              "      <td>69.276632</td>\n",
              "      <td>14.523368</td>\n",
              "    </tr>\n",
              "    <tr>\n",
              "      <th>2020-09-10</th>\n",
              "      <td>69.350208</td>\n",
              "      <td>14.449792</td>\n",
              "    </tr>\n",
              "    <tr>\n",
              "      <th>2020-09-11</th>\n",
              "      <td>70.118404</td>\n",
              "      <td>13.681596</td>\n",
              "    </tr>\n",
              "    <tr>\n",
              "      <th>2020-09-12</th>\n",
              "      <td>69.294271</td>\n",
              "      <td>14.505729</td>\n",
              "    </tr>\n",
              "    <tr>\n",
              "      <th>2020-09-13</th>\n",
              "      <td>69.494000</td>\n",
              "      <td>14.306000</td>\n",
              "    </tr>\n",
              "    <tr>\n",
              "      <th>2020-09-14</th>\n",
              "      <td>70.350526</td>\n",
              "      <td>13.449474</td>\n",
              "    </tr>\n",
              "    <tr>\n",
              "      <th>2020-09-15</th>\n",
              "      <td>69.438542</td>\n",
              "      <td>14.361458</td>\n",
              "    </tr>\n",
              "    <tr>\n",
              "      <th>2020-09-16</th>\n",
              "      <td>69.929688</td>\n",
              "      <td>13.870312</td>\n",
              "    </tr>\n",
              "    <tr>\n",
              "      <th>2020-09-17</th>\n",
              "      <td>71.443579</td>\n",
              "      <td>12.356421</td>\n",
              "    </tr>\n",
              "    <tr>\n",
              "      <th>2020-09-18</th>\n",
              "      <td>70.734184</td>\n",
              "      <td>13.065816</td>\n",
              "    </tr>\n",
              "    <tr>\n",
              "      <th>2020-09-19</th>\n",
              "      <td>70.735054</td>\n",
              "      <td>13.064946</td>\n",
              "    </tr>\n",
              "    <tr>\n",
              "      <th>2020-09-20</th>\n",
              "      <td>71.639789</td>\n",
              "      <td>12.160211</td>\n",
              "    </tr>\n",
              "    <tr>\n",
              "      <th>2020-09-21</th>\n",
              "      <td>70.977292</td>\n",
              "      <td>12.822708</td>\n",
              "    </tr>\n",
              "    <tr>\n",
              "      <th>2020-09-22</th>\n",
              "      <td>71.135104</td>\n",
              "      <td>12.664896</td>\n",
              "    </tr>\n",
              "    <tr>\n",
              "      <th>2020-09-23</th>\n",
              "      <td>71.642105</td>\n",
              "      <td>12.157895</td>\n",
              "    </tr>\n",
              "    <tr>\n",
              "      <th>2020-09-24</th>\n",
              "      <td>70.552632</td>\n",
              "      <td>13.247368</td>\n",
              "    </tr>\n",
              "    <tr>\n",
              "      <th>2020-09-25</th>\n",
              "      <td>70.846042</td>\n",
              "      <td>12.953958</td>\n",
              "    </tr>\n",
              "    <tr>\n",
              "      <th>2020-09-26</th>\n",
              "      <td>71.444787</td>\n",
              "      <td>12.355213</td>\n",
              "    </tr>\n",
              "    <tr>\n",
              "      <th>2020-09-27</th>\n",
              "      <td>70.375532</td>\n",
              "      <td>13.424468</td>\n",
              "    </tr>\n",
              "    <tr>\n",
              "      <th>2020-09-28</th>\n",
              "      <td>65.478947</td>\n",
              "      <td>18.321053</td>\n",
              "    </tr>\n",
              "    <tr>\n",
              "      <th>2020-09-29</th>\n",
              "      <td>70.298958</td>\n",
              "      <td>13.501042</td>\n",
              "    </tr>\n",
              "    <tr>\n",
              "      <th>2020-09-30</th>\n",
              "      <td>70.049091</td>\n",
              "      <td>13.750909</td>\n",
              "    </tr>\n",
              "  </tbody>\n",
              "</table>\n",
              "</div>"
            ],
            "text/plain": [
              "              dist_cm   nivel_cm\n",
              "data                            \n",
              "2020-08-05  65.107778  18.692222\n",
              "2020-08-06  64.665532  19.134468\n",
              "2020-08-07  64.131286  19.668714\n",
              "2020-08-08        NaN        NaN\n",
              "2020-08-09        NaN        NaN\n",
              "2020-08-10  68.856042  14.943958\n",
              "2020-08-11  69.920625  13.879375\n",
              "2020-08-12  69.569474  14.230526\n",
              "2020-08-13  67.331474  16.468526\n",
              "2020-08-14  68.783333  15.016667\n",
              "2020-08-15  63.792500  20.007500\n",
              "2020-08-16  62.945745  20.854255\n",
              "2020-08-17  66.854842  16.945158\n",
              "2020-08-18  63.923474  19.876526\n",
              "2020-08-19  62.907065  20.892935\n",
              "2020-08-20  62.661474  21.138526\n",
              "2020-08-21  65.785275  18.014725\n",
              "2020-08-22  67.277158  16.522842\n",
              "2020-08-23  67.733438  16.066563\n",
              "2020-08-24  68.381895  15.418105\n",
              "2020-08-25  67.855158  15.944842\n",
              "2020-08-26  67.973370  15.826630\n",
              "2020-08-27  68.797000  15.003000\n",
              "2020-08-28  68.135745  15.664255\n",
              "2020-08-29  68.092903  15.707097\n",
              "2020-08-30  68.919687  14.880312\n",
              "2020-08-31  69.014271  14.785729\n",
              "2020-09-01  69.222234  14.577766\n",
              "2020-09-02  69.941354  13.858646\n",
              "2020-09-03  69.036146  14.763854\n",
              "2020-09-04  69.180625  14.619375\n",
              "2020-09-05  70.039167  13.760833\n",
              "2020-09-06  69.369271  14.430729\n",
              "2020-09-07  69.545625  14.254375\n",
              "2020-09-08  70.132553  13.667447\n",
              "2020-09-09  69.276632  14.523368\n",
              "2020-09-10  69.350208  14.449792\n",
              "2020-09-11  70.118404  13.681596\n",
              "2020-09-12  69.294271  14.505729\n",
              "2020-09-13  69.494000  14.306000\n",
              "2020-09-14  70.350526  13.449474\n",
              "2020-09-15  69.438542  14.361458\n",
              "2020-09-16  69.929688  13.870312\n",
              "2020-09-17  71.443579  12.356421\n",
              "2020-09-18  70.734184  13.065816\n",
              "2020-09-19  70.735054  13.064946\n",
              "2020-09-20  71.639789  12.160211\n",
              "2020-09-21  70.977292  12.822708\n",
              "2020-09-22  71.135104  12.664896\n",
              "2020-09-23  71.642105  12.157895\n",
              "2020-09-24  70.552632  13.247368\n",
              "2020-09-25  70.846042  12.953958\n",
              "2020-09-26  71.444787  12.355213\n",
              "2020-09-27  70.375532  13.424468\n",
              "2020-09-28  65.478947  18.321053\n",
              "2020-09-29  70.298958  13.501042\n",
              "2020-09-30  70.049091  13.750909"
            ]
          },
          "metadata": {
            "tags": []
          },
          "execution_count": 18
        }
      ]
    },
    {
      "cell_type": "code",
      "metadata": {
        "id": "eT1-cYc7MQEw",
        "colab": {
          "base_uri": "https://localhost:8080/",
          "height": 320
        },
        "outputId": "86897835-0dca-49ea-d5b9-69f51760be88"
      },
      "source": [
        "plt.figure(figsize=(10,5))\n",
        "plt.plot(medias['nivel_cm'],color='blue')\n",
        "#plt.xlabel('nivel (cm)')\n",
        "plt.ylabel('nivel (cm)');"
      ],
      "execution_count": null,
      "outputs": [
        {
          "output_type": "display_data",
          "data": {
            "image/png": "[encoded data removed]",
            "text/plain": [
              "<Figure size 720x360 with 1 Axes>"
            ]
          },
          "metadata": {
            "tags": [],
            "needs_background": "light"
          }
        }
      ]
    },
    {
      "cell_type": "markdown",
      "metadata": {
        "id": "xkvd0lXUd_qb"
      },
      "source": [
        "**Exercício II:** Com os dados já tratados, agora pode-se utilizar de métodos empíricos para o cálculo da vazão. Considere que o córrego está canalizado em uma manilha de 1.50 metros de diâmetro, e a declividade é de 1,31%.\n",
        "\n",
        "Realizar o cálculo da vazão ($Q$) associada ao escoamento no canal circular utilizando os dados horários de nível. Uma aproximação da vazão $Q$ pode ser obtida aplicando a equação de Manning: \n",
        "\n",
        "$\\displaystyle Q = \\ \\frac{A}{n}  Rh^{2/3} S^{1/2}$\n",
        "\n",
        "Sendo que $A$ é a área da seção transversal de fluxo normal à direção do fluxo, $Rh$ é o raio hidráulico, $S$ é a declividade do fundo do canal e $n$ é o coeficiente de rugosidade de Gauckler–Manning. Considere que o valor do coeficiente de Gauckler–Manning é $n = 0.2$ s/m$^{1/3}$.\n",
        "\n",
        "Para obter a vazão o/a discente deverá realizar o produto da velocidade e da área. \n",
        "\n",
        "Observe a figura abaixo e identifique as variáveis: $D$ (diâmetro do tubo), $r$ (raio do tubo), $h$ (altura da lâmina d'água) e $\\theta$ (ângulo em relação ao centro do tubo). \n",
        "\n",
        "<img src=\"https://www.dropbox.com/s/zx1xlfbqd16j5m2/wetted-circle_ok.png?dl=1\" width=\"250\"/> \n",
        "\n",
        "Para proceder com os cálculos sugere-se :\n",
        "\n",
        "1. Calcular $\\theta$ (em radianos) de acordo com as fórmulas abaixo, sendo que $h$ é a altura da lâmina d'água.\n",
        "2. Cálculo da área molhada\n",
        "3. Cálculo do perímetro molhado\n",
        "4. Cálculo do raio hidráulico\n",
        "5. Cálculo da velocidade média\n",
        "6. Cálculo da vazão\n",
        "\n",
        "A seguir são apresentadas algumas equações que podem ser úteis nos cálculos. \n",
        "\n",
        "O raio ($r$) é a metade do diâmetro ($D$):\n",
        "\n",
        "$$r = \\frac{D}{2}$$\n",
        "\n",
        "O ângulo $\\theta$ deverá ser calculado em radianos e pode ser obtido de acordo com a equação:\n",
        "\n",
        "$$\\theta = 2 \\, \\text{arc cos} \\left(\\frac{r-h}{r} \\right)$$\n",
        "\n",
        "A área da seção transversal do escoamento ($A$) é:\n",
        "\n",
        "$$A = \\frac{r^2 (\\theta - \\text{sen}\\theta)}{2}$$\n",
        "\n",
        "O perímetro molhado ($P$) é:\n",
        "\n",
        "$$P = r \\theta$$\n",
        "\n",
        "O raio hidráulico ($R_h$) é:\n",
        "\n",
        "$$R_h = \\frac{A}{P}$$\n",
        "\n",
        "\n",
        "Sugestão de leitura de [material com as equações](https://www.cedengineering.com/userfiles/Partially%20Full%20Pipe%20Flow%20Calculations.pdf).\n",
        "\n",
        "**No final do exercício II o/a discente deverá fazer 3 coisas:**\n",
        "\n",
        "**a) Mostrar um gráfico da vazão horária (m3/s) ao longo do tempo.** (não é o perfil diário de vazão).\n",
        "\n",
        "**b) Mostrar um histograma da Vazão horária (m3/s).**\n",
        "\n",
        "**c) Calcular a mediana da Vazão horária (m3/s)**\n"
      ]
    },
    {
      "cell_type": "markdown",
      "metadata": {
        "id": "_1GjsP7_V0Bz"
      },
      "source": [
        "**Solução:**\n"
      ]
    },
    {
      "cell_type": "code",
      "metadata": {
        "id": "edNXrg9acgqY",
        "colab": {
          "base_uri": "https://localhost:8080/"
        },
        "outputId": "2657ad25-8ac7-4e76-fbf4-d5b04f4a7f07"
      },
      "source": [
        "S = numpy.arctan(0.24/18.82)\r\n",
        "S"
      ],
      "execution_count": null,
      "outputs": [
        {
          "output_type": "execute_result",
          "data": {
            "text/plain": [
              "0.012751699861372612"
            ]
          },
          "metadata": {
            "tags": []
          },
          "execution_count": 20
        }
      ]
    },
    {
      "cell_type": "code",
      "metadata": {
        "id": "x9rA3JXkWA57"
      },
      "source": [
        "import numpy\n",
        "\n",
        "nivel = medias['nivel_cm'].values/100.0\n",
        "\n",
        "theta = 2*numpy.arccos((0.75-nivel)/0.75)\n",
        "\n",
        "area = (0.75**2)*(theta-numpy.sin(theta))/2.0\n",
        "\n",
        "perimetro = 0.75*theta\n",
        "\n",
        "raio_hidraulico = area/perimetro\n",
        "\n",
        "vazao =  (area/0.04) * raio_hidraulico**(2/3) * S**(1/2)\n",
        "\n",
        "vazao_l_s = vazao * 1000\n",
        "\n",
        "medias['theta'] = theta\n",
        "medias['area'] = area\n",
        "medias['perimetro'] = perimetro\n",
        "medias['raio_hidraulico'] = raio_hidraulico\n",
        "medias['vazao(m3/s)'] = vazao\n",
        "medias['vazao(l/s)'] = vazao_l_s"
      ],
      "execution_count": null,
      "outputs": []
    },
    {
      "cell_type": "code",
      "metadata": {
        "id": "EDOONOMNXFbM",
        "colab": {
          "base_uri": "https://localhost:8080/",
          "height": 1000
        },
        "outputId": "cf239c63-13e4-486d-90ed-884f9f9080f7"
      },
      "source": [
        "medias\n"
      ],
      "execution_count": null,
      "outputs": [
        {
          "output_type": "execute_result",
          "data": {
            "text/html": [
              "<div>\n",
              "<style scoped>\n",
              "    .dataframe tbody tr th:only-of-type {\n",
              "        vertical-align: middle;\n",
              "    }\n",
              "\n",
              "    .dataframe tbody tr th {\n",
              "        vertical-align: top;\n",
              "    }\n",
              "\n",
              "    .dataframe thead th {\n",
              "        text-align: right;\n",
              "    }\n",
              "</style>\n",
              "<table border=\"1\" class=\"dataframe\">\n",
              "  <thead>\n",
              "    <tr style=\"text-align: right;\">\n",
              "      <th></th>\n",
              "      <th>dist_cm</th>\n",
              "      <th>nivel_cm</th>\n",
              "      <th>theta</th>\n",
              "      <th>area</th>\n",
              "      <th>perimetro</th>\n",
              "      <th>raio_hidraulico</th>\n",
              "      <th>vazao(m3/s)</th>\n",
              "      <th>vazao(l/s)</th>\n",
              "    </tr>\n",
              "    <tr>\n",
              "      <th>data</th>\n",
              "      <th></th>\n",
              "      <th></th>\n",
              "      <th></th>\n",
              "      <th></th>\n",
              "      <th></th>\n",
              "      <th></th>\n",
              "      <th></th>\n",
              "      <th></th>\n",
              "    </tr>\n",
              "  </thead>\n",
              "  <tbody>\n",
              "    <tr>\n",
              "      <th>2020-08-05</th>\n",
              "      <td>65.107778</td>\n",
              "      <td>18.692222</td>\n",
              "      <td>1.443138</td>\n",
              "      <td>0.126921</td>\n",
              "      <td>1.082353</td>\n",
              "      <td>0.117264</td>\n",
              "      <td>0.085842</td>\n",
              "      <td>85.842210</td>\n",
              "    </tr>\n",
              "    <tr>\n",
              "      <th>2020-08-06</th>\n",
              "      <td>64.665532</td>\n",
              "      <td>19.134468</td>\n",
              "      <td>1.460901</td>\n",
              "      <td>0.131325</td>\n",
              "      <td>1.095676</td>\n",
              "      <td>0.119858</td>\n",
              "      <td>0.090126</td>\n",
              "      <td>90.125773</td>\n",
              "    </tr>\n",
              "    <tr>\n",
              "      <th>2020-08-07</th>\n",
              "      <td>64.131286</td>\n",
              "      <td>19.668714</td>\n",
              "      <td>1.482129</td>\n",
              "      <td>0.136704</td>\n",
              "      <td>1.111596</td>\n",
              "      <td>0.122979</td>\n",
              "      <td>0.095439</td>\n",
              "      <td>95.438935</td>\n",
              "    </tr>\n",
              "    <tr>\n",
              "      <th>2020-08-08</th>\n",
              "      <td>NaN</td>\n",
              "      <td>NaN</td>\n",
              "      <td>NaN</td>\n",
              "      <td>NaN</td>\n",
              "      <td>NaN</td>\n",
              "      <td>NaN</td>\n",
              "      <td>NaN</td>\n",
              "      <td>NaN</td>\n",
              "    </tr>\n",
              "    <tr>\n",
              "      <th>2020-08-09</th>\n",
              "      <td>NaN</td>\n",
              "      <td>NaN</td>\n",
              "      <td>NaN</td>\n",
              "      <td>NaN</td>\n",
              "      <td>NaN</td>\n",
              "      <td>NaN</td>\n",
              "      <td>NaN</td>\n",
              "      <td>NaN</td>\n",
              "    </tr>\n",
              "    <tr>\n",
              "      <th>2020-08-10</th>\n",
              "      <td>68.856042</td>\n",
              "      <td>14.943958</td>\n",
              "      <td>1.284509</td>\n",
              "      <td>0.091465</td>\n",
              "      <td>0.963382</td>\n",
              "      <td>0.094942</td>\n",
              "      <td>0.053739</td>\n",
              "      <td>53.738625</td>\n",
              "    </tr>\n",
              "    <tr>\n",
              "      <th>2020-08-11</th>\n",
              "      <td>69.920625</td>\n",
              "      <td>13.879375</td>\n",
              "      <td>1.236336</td>\n",
              "      <td>0.082054</td>\n",
              "      <td>0.927252</td>\n",
              "      <td>0.088492</td>\n",
              "      <td>0.046000</td>\n",
              "      <td>46.000226</td>\n",
              "    </tr>\n",
              "    <tr>\n",
              "      <th>2020-08-12</th>\n",
              "      <td>69.569474</td>\n",
              "      <td>14.230526</td>\n",
              "      <td>1.252403</td>\n",
              "      <td>0.085124</td>\n",
              "      <td>0.939302</td>\n",
              "      <td>0.090625</td>\n",
              "      <td>0.048485</td>\n",
              "      <td>48.484994</td>\n",
              "    </tr>\n",
              "    <tr>\n",
              "      <th>2020-08-13</th>\n",
              "      <td>67.331474</td>\n",
              "      <td>16.468526</td>\n",
              "      <td>1.350919</td>\n",
              "      <td>0.105467</td>\n",
              "      <td>1.013189</td>\n",
              "      <td>0.104094</td>\n",
              "      <td>0.065886</td>\n",
              "      <td>65.886069</td>\n",
              "    </tr>\n",
              "    <tr>\n",
              "      <th>2020-08-14</th>\n",
              "      <td>68.783333</td>\n",
              "      <td>15.016667</td>\n",
              "      <td>1.287743</td>\n",
              "      <td>0.092119</td>\n",
              "      <td>0.965807</td>\n",
              "      <td>0.095381</td>\n",
              "      <td>0.054289</td>\n",
              "      <td>54.289484</td>\n",
              "    </tr>\n",
              "    <tr>\n",
              "      <th>2020-08-15</th>\n",
              "      <td>63.792500</td>\n",
              "      <td>20.007500</td>\n",
              "      <td>1.495463</td>\n",
              "      <td>0.140147</td>\n",
              "      <td>1.121597</td>\n",
              "      <td>0.124953</td>\n",
              "      <td>0.098887</td>\n",
              "      <td>98.886531</td>\n",
              "    </tr>\n",
              "    <tr>\n",
              "      <th>2020-08-16</th>\n",
              "      <td>62.945745</td>\n",
              "      <td>20.854255</td>\n",
              "      <td>1.528379</td>\n",
              "      <td>0.148860</td>\n",
              "      <td>1.146285</td>\n",
              "      <td>0.129863</td>\n",
              "      <td>0.107768</td>\n",
              "      <td>107.768282</td>\n",
              "    </tr>\n",
              "    <tr>\n",
              "      <th>2020-08-17</th>\n",
              "      <td>66.854842</td>\n",
              "      <td>16.945158</td>\n",
              "      <td>1.371120</td>\n",
              "      <td>0.109966</td>\n",
              "      <td>1.028340</td>\n",
              "      <td>0.106935</td>\n",
              "      <td>0.069940</td>\n",
              "      <td>69.940478</td>\n",
              "    </tr>\n",
              "    <tr>\n",
              "      <th>2020-08-18</th>\n",
              "      <td>63.923474</td>\n",
              "      <td>19.876526</td>\n",
              "      <td>1.490319</td>\n",
              "      <td>0.138813</td>\n",
              "      <td>1.117739</td>\n",
              "      <td>0.124190</td>\n",
              "      <td>0.097547</td>\n",
              "      <td>97.546503</td>\n",
              "    </tr>\n",
              "    <tr>\n",
              "      <th>2020-08-19</th>\n",
              "      <td>62.907065</td>\n",
              "      <td>20.892935</td>\n",
              "      <td>1.529870</td>\n",
              "      <td>0.149261</td>\n",
              "      <td>1.147402</td>\n",
              "      <td>0.130086</td>\n",
              "      <td>0.108183</td>\n",
              "      <td>108.183011</td>\n",
              "    </tr>\n",
              "    <tr>\n",
              "      <th>2020-08-20</th>\n",
              "      <td>62.661474</td>\n",
              "      <td>21.138526</td>\n",
              "      <td>1.539304</td>\n",
              "      <td>0.151819</td>\n",
              "      <td>1.154478</td>\n",
              "      <td>0.131504</td>\n",
              "      <td>0.110835</td>\n",
              "      <td>110.834617</td>\n",
              "    </tr>\n",
              "    <tr>\n",
              "      <th>2020-08-21</th>\n",
              "      <td>65.785275</td>\n",
              "      <td>18.014725</td>\n",
              "      <td>1.415571</td>\n",
              "      <td>0.120261</td>\n",
              "      <td>1.061678</td>\n",
              "      <td>0.113274</td>\n",
              "      <td>0.079482</td>\n",
              "      <td>79.482013</td>\n",
              "    </tr>\n",
              "    <tr>\n",
              "      <th>2020-08-22</th>\n",
              "      <td>67.277158</td>\n",
              "      <td>16.522842</td>\n",
              "      <td>1.353234</td>\n",
              "      <td>0.105977</td>\n",
              "      <td>1.014926</td>\n",
              "      <td>0.104419</td>\n",
              "      <td>0.066342</td>\n",
              "      <td>66.341938</td>\n",
              "    </tr>\n",
              "    <tr>\n",
              "      <th>2020-08-23</th>\n",
              "      <td>67.733438</td>\n",
              "      <td>16.066563</td>\n",
              "      <td>1.333683</td>\n",
              "      <td>0.101718</td>\n",
              "      <td>1.000262</td>\n",
              "      <td>0.101691</td>\n",
              "      <td>0.062562</td>\n",
              "      <td>62.561742</td>\n",
              "    </tr>\n",
              "    <tr>\n",
              "      <th>2020-08-24</th>\n",
              "      <td>68.381895</td>\n",
              "      <td>15.418105</td>\n",
              "      <td>1.305471</td>\n",
              "      <td>0.095755</td>\n",
              "      <td>0.979103</td>\n",
              "      <td>0.097799</td>\n",
              "      <td>0.057382</td>\n",
              "      <td>57.382271</td>\n",
              "    </tr>\n",
              "    <tr>\n",
              "      <th>2020-08-25</th>\n",
              "      <td>67.855158</td>\n",
              "      <td>15.944842</td>\n",
              "      <td>1.328426</td>\n",
              "      <td>0.100590</td>\n",
              "      <td>0.996320</td>\n",
              "      <td>0.100962</td>\n",
              "      <td>0.061572</td>\n",
              "      <td>61.572242</td>\n",
              "    </tr>\n",
              "    <tr>\n",
              "      <th>2020-08-26</th>\n",
              "      <td>67.973370</td>\n",
              "      <td>15.826630</td>\n",
              "      <td>1.323304</td>\n",
              "      <td>0.099499</td>\n",
              "      <td>0.992478</td>\n",
              "      <td>0.100253</td>\n",
              "      <td>0.060619</td>\n",
              "      <td>60.618904</td>\n",
              "    </tr>\n",
              "    <tr>\n",
              "      <th>2020-08-27</th>\n",
              "      <td>68.797000</td>\n",
              "      <td>15.003000</td>\n",
              "      <td>1.287136</td>\n",
              "      <td>0.091996</td>\n",
              "      <td>0.965352</td>\n",
              "      <td>0.095298</td>\n",
              "      <td>0.054186</td>\n",
              "      <td>54.185723</td>\n",
              "    </tr>\n",
              "    <tr>\n",
              "      <th>2020-08-28</th>\n",
              "      <td>68.135745</td>\n",
              "      <td>15.664255</td>\n",
              "      <td>1.316241</td>\n",
              "      <td>0.098006</td>\n",
              "      <td>0.987181</td>\n",
              "      <td>0.099279</td>\n",
              "      <td>0.059322</td>\n",
              "      <td>59.321676</td>\n",
              "    </tr>\n",
              "    <tr>\n",
              "      <th>2020-08-29</th>\n",
              "      <td>68.092903</td>\n",
              "      <td>15.707097</td>\n",
              "      <td>1.318107</td>\n",
              "      <td>0.098399</td>\n",
              "      <td>0.988581</td>\n",
              "      <td>0.099536</td>\n",
              "      <td>0.059663</td>\n",
              "      <td>59.662560</td>\n",
              "    </tr>\n",
              "    <tr>\n",
              "      <th>2020-08-30</th>\n",
              "      <td>68.919687</td>\n",
              "      <td>14.880312</td>\n",
              "      <td>1.281673</td>\n",
              "      <td>0.090894</td>\n",
              "      <td>0.961255</td>\n",
              "      <td>0.094558</td>\n",
              "      <td>0.053259</td>\n",
              "      <td>53.258771</td>\n",
              "    </tr>\n",
              "    <tr>\n",
              "      <th>2020-08-31</th>\n",
              "      <td>69.014271</td>\n",
              "      <td>14.785729</td>\n",
              "      <td>1.277449</td>\n",
              "      <td>0.090047</td>\n",
              "      <td>0.958086</td>\n",
              "      <td>0.093986</td>\n",
              "      <td>0.052550</td>\n",
              "      <td>52.549706</td>\n",
              "    </tr>\n",
              "    <tr>\n",
              "      <th>2020-09-01</th>\n",
              "      <td>69.222234</td>\n",
              "      <td>14.577766</td>\n",
              "      <td>1.268117</td>\n",
              "      <td>0.088193</td>\n",
              "      <td>0.951088</td>\n",
              "      <td>0.092729</td>\n",
              "      <td>0.051008</td>\n",
              "      <td>51.007663</td>\n",
              "    </tr>\n",
              "    <tr>\n",
              "      <th>2020-09-02</th>\n",
              "      <td>69.941354</td>\n",
              "      <td>13.858646</td>\n",
              "      <td>1.235381</td>\n",
              "      <td>0.081874</td>\n",
              "      <td>0.926536</td>\n",
              "      <td>0.088366</td>\n",
              "      <td>0.045856</td>\n",
              "      <td>45.855630</td>\n",
              "    </tr>\n",
              "    <tr>\n",
              "      <th>2020-09-03</th>\n",
              "      <td>69.036146</td>\n",
              "      <td>14.763854</td>\n",
              "      <td>1.276470</td>\n",
              "      <td>0.089852</td>\n",
              "      <td>0.957352</td>\n",
              "      <td>0.093854</td>\n",
              "      <td>0.052386</td>\n",
              "      <td>52.386404</td>\n",
              "    </tr>\n",
              "    <tr>\n",
              "      <th>2020-09-04</th>\n",
              "      <td>69.180625</td>\n",
              "      <td>14.619375</td>\n",
              "      <td>1.269989</td>\n",
              "      <td>0.088563</td>\n",
              "      <td>0.952492</td>\n",
              "      <td>0.092981</td>\n",
              "      <td>0.051314</td>\n",
              "      <td>51.314323</td>\n",
              "    </tr>\n",
              "    <tr>\n",
              "      <th>2020-09-05</th>\n",
              "      <td>70.039167</td>\n",
              "      <td>13.760833</td>\n",
              "      <td>1.230871</td>\n",
              "      <td>0.081026</td>\n",
              "      <td>0.923153</td>\n",
              "      <td>0.087771</td>\n",
              "      <td>0.045176</td>\n",
              "      <td>45.176480</td>\n",
              "    </tr>\n",
              "    <tr>\n",
              "      <th>2020-09-06</th>\n",
              "      <td>69.369271</td>\n",
              "      <td>14.430729</td>\n",
              "      <td>1.261484</td>\n",
              "      <td>0.086890</td>\n",
              "      <td>0.946113</td>\n",
              "      <td>0.091838</td>\n",
              "      <td>0.049931</td>\n",
              "      <td>49.931494</td>\n",
              "    </tr>\n",
              "    <tr>\n",
              "      <th>2020-09-07</th>\n",
              "      <td>69.545625</td>\n",
              "      <td>14.254375</td>\n",
              "      <td>1.253487</td>\n",
              "      <td>0.085334</td>\n",
              "      <td>0.940116</td>\n",
              "      <td>0.090769</td>\n",
              "      <td>0.048656</td>\n",
              "      <td>48.656168</td>\n",
              "    </tr>\n",
              "    <tr>\n",
              "      <th>2020-09-08</th>\n",
              "      <td>70.132553</td>\n",
              "      <td>13.667447</td>\n",
              "      <td>1.226550</td>\n",
              "      <td>0.080218</td>\n",
              "      <td>0.919913</td>\n",
              "      <td>0.087202</td>\n",
              "      <td>0.044533</td>\n",
              "      <td>44.532892</td>\n",
              "    </tr>\n",
              "    <tr>\n",
              "      <th>2020-09-09</th>\n",
              "      <td>69.276632</td>\n",
              "      <td>14.523368</td>\n",
              "      <td>1.265666</td>\n",
              "      <td>0.087710</td>\n",
              "      <td>0.949250</td>\n",
              "      <td>0.092399</td>\n",
              "      <td>0.050608</td>\n",
              "      <td>50.608163</td>\n",
              "    </tr>\n",
              "    <tr>\n",
              "      <th>2020-09-10</th>\n",
              "      <td>69.350208</td>\n",
              "      <td>14.449792</td>\n",
              "      <td>1.262345</td>\n",
              "      <td>0.087058</td>\n",
              "      <td>0.946759</td>\n",
              "      <td>0.091954</td>\n",
              "      <td>0.050070</td>\n",
              "      <td>50.070354</td>\n",
              "    </tr>\n",
              "    <tr>\n",
              "      <th>2020-09-11</th>\n",
              "      <td>70.118404</td>\n",
              "      <td>13.681596</td>\n",
              "      <td>1.227206</td>\n",
              "      <td>0.080340</td>\n",
              "      <td>0.920404</td>\n",
              "      <td>0.087288</td>\n",
              "      <td>0.044630</td>\n",
              "      <td>44.630099</td>\n",
              "    </tr>\n",
              "    <tr>\n",
              "      <th>2020-09-12</th>\n",
              "      <td>69.294271</td>\n",
              "      <td>14.505729</td>\n",
              "      <td>1.264871</td>\n",
              "      <td>0.087554</td>\n",
              "      <td>0.948653</td>\n",
              "      <td>0.092293</td>\n",
              "      <td>0.050479</td>\n",
              "      <td>50.478962</td>\n",
              "    </tr>\n",
              "    <tr>\n",
              "      <th>2020-09-13</th>\n",
              "      <td>69.494000</td>\n",
              "      <td>14.306000</td>\n",
              "      <td>1.255833</td>\n",
              "      <td>0.085788</td>\n",
              "      <td>0.941875</td>\n",
              "      <td>0.091083</td>\n",
              "      <td>0.049028</td>\n",
              "      <td>49.027759</td>\n",
              "    </tr>\n",
              "    <tr>\n",
              "      <th>2020-09-14</th>\n",
              "      <td>70.350526</td>\n",
              "      <td>13.449474</td>\n",
              "      <td>1.216415</td>\n",
              "      <td>0.078343</td>\n",
              "      <td>0.912311</td>\n",
              "      <td>0.085873</td>\n",
              "      <td>0.043049</td>\n",
              "      <td>43.049065</td>\n",
              "    </tr>\n",
              "    <tr>\n",
              "      <th>2020-09-15</th>\n",
              "      <td>69.438542</td>\n",
              "      <td>14.361458</td>\n",
              "      <td>1.258348</td>\n",
              "      <td>0.086277</td>\n",
              "      <td>0.943761</td>\n",
              "      <td>0.091419</td>\n",
              "      <td>0.049429</td>\n",
              "      <td>49.428548</td>\n",
              "    </tr>\n",
              "    <tr>\n",
              "      <th>2020-09-16</th>\n",
              "      <td>69.929688</td>\n",
              "      <td>13.870312</td>\n",
              "      <td>1.235919</td>\n",
              "      <td>0.081975</td>\n",
              "      <td>0.926939</td>\n",
              "      <td>0.088437</td>\n",
              "      <td>0.045937</td>\n",
              "      <td>45.936982</td>\n",
              "    </tr>\n",
              "    <tr>\n",
              "      <th>2020-09-17</th>\n",
              "      <td>71.443579</td>\n",
              "      <td>12.356421</td>\n",
              "      <td>1.164426</td>\n",
              "      <td>0.069149</td>\n",
              "      <td>0.873320</td>\n",
              "      <td>0.079180</td>\n",
              "      <td>0.035996</td>\n",
              "      <td>35.996160</td>\n",
              "    </tr>\n",
              "    <tr>\n",
              "      <th>2020-09-18</th>\n",
              "      <td>70.734184</td>\n",
              "      <td>13.065816</td>\n",
              "      <td>1.198393</td>\n",
              "      <td>0.075076</td>\n",
              "      <td>0.898795</td>\n",
              "      <td>0.083530</td>\n",
              "      <td>0.040500</td>\n",
              "      <td>40.499839</td>\n",
              "    </tr>\n",
              "    <tr>\n",
              "      <th>2020-09-19</th>\n",
              "      <td>70.735054</td>\n",
              "      <td>13.064946</td>\n",
              "      <td>1.198352</td>\n",
              "      <td>0.075069</td>\n",
              "      <td>0.898764</td>\n",
              "      <td>0.083524</td>\n",
              "      <td>0.040494</td>\n",
              "      <td>40.494148</td>\n",
              "    </tr>\n",
              "    <tr>\n",
              "      <th>2020-09-20</th>\n",
              "      <td>71.639789</td>\n",
              "      <td>12.160211</td>\n",
              "      <td>1.154876</td>\n",
              "      <td>0.067537</td>\n",
              "      <td>0.866157</td>\n",
              "      <td>0.077973</td>\n",
              "      <td>0.034799</td>\n",
              "      <td>34.798599</td>\n",
              "    </tr>\n",
              "    <tr>\n",
              "      <th>2020-09-21</th>\n",
              "      <td>70.977292</td>\n",
              "      <td>12.822708</td>\n",
              "      <td>1.186849</td>\n",
              "      <td>0.073028</td>\n",
              "      <td>0.890137</td>\n",
              "      <td>0.082042</td>\n",
              "      <td>0.038926</td>\n",
              "      <td>38.925749</td>\n",
              "    </tr>\n",
              "    <tr>\n",
              "      <th>2020-09-22</th>\n",
              "      <td>71.135104</td>\n",
              "      <td>12.664896</td>\n",
              "      <td>1.179302</td>\n",
              "      <td>0.071708</td>\n",
              "      <td>0.884477</td>\n",
              "      <td>0.081074</td>\n",
              "      <td>0.037921</td>\n",
              "      <td>37.921065</td>\n",
              "    </tr>\n",
              "    <tr>\n",
              "      <th>2020-09-23</th>\n",
              "      <td>71.642105</td>\n",
              "      <td>12.157895</td>\n",
              "      <td>1.154763</td>\n",
              "      <td>0.067518</td>\n",
              "      <td>0.866072</td>\n",
              "      <td>0.077959</td>\n",
              "      <td>0.034785</td>\n",
              "      <td>34.784590</td>\n",
              "    </tr>\n",
              "    <tr>\n",
              "      <th>2020-09-24</th>\n",
              "      <td>70.552632</td>\n",
              "      <td>13.247368</td>\n",
              "      <td>1.206950</td>\n",
              "      <td>0.076617</td>\n",
              "      <td>0.905213</td>\n",
              "      <td>0.084640</td>\n",
              "      <td>0.041696</td>\n",
              "      <td>41.696236</td>\n",
              "    </tr>\n",
              "    <tr>\n",
              "      <th>2020-09-25</th>\n",
              "      <td>70.846042</td>\n",
              "      <td>12.953958</td>\n",
              "      <td>1.193093</td>\n",
              "      <td>0.074132</td>\n",
              "      <td>0.894820</td>\n",
              "      <td>0.082845</td>\n",
              "      <td>0.039772</td>\n",
              "      <td>39.771599</td>\n",
              "    </tr>\n",
              "    <tr>\n",
              "      <th>2020-09-26</th>\n",
              "      <td>71.444787</td>\n",
              "      <td>12.355213</td>\n",
              "      <td>1.164368</td>\n",
              "      <td>0.069139</td>\n",
              "      <td>0.873276</td>\n",
              "      <td>0.079173</td>\n",
              "      <td>0.035989</td>\n",
              "      <td>35.988721</td>\n",
              "    </tr>\n",
              "    <tr>\n",
              "      <th>2020-09-27</th>\n",
              "      <td>70.375532</td>\n",
              "      <td>13.424468</td>\n",
              "      <td>1.215247</td>\n",
              "      <td>0.078129</td>\n",
              "      <td>0.911435</td>\n",
              "      <td>0.085721</td>\n",
              "      <td>0.042880</td>\n",
              "      <td>42.880486</td>\n",
              "    </tr>\n",
              "    <tr>\n",
              "      <th>2020-09-28</th>\n",
              "      <td>65.478947</td>\n",
              "      <td>18.321053</td>\n",
              "      <td>1.428089</td>\n",
              "      <td>0.123259</td>\n",
              "      <td>1.071067</td>\n",
              "      <td>0.115081</td>\n",
              "      <td>0.082327</td>\n",
              "      <td>82.327432</td>\n",
              "    </tr>\n",
              "    <tr>\n",
              "      <th>2020-09-29</th>\n",
              "      <td>70.298958</td>\n",
              "      <td>13.501042</td>\n",
              "      <td>1.218819</td>\n",
              "      <td>0.078786</td>\n",
              "      <td>0.914114</td>\n",
              "      <td>0.086188</td>\n",
              "      <td>0.043398</td>\n",
              "      <td>43.397785</td>\n",
              "    </tr>\n",
              "    <tr>\n",
              "      <th>2020-09-30</th>\n",
              "      <td>70.049091</td>\n",
              "      <td>13.750909</td>\n",
              "      <td>1.230412</td>\n",
              "      <td>0.080940</td>\n",
              "      <td>0.922809</td>\n",
              "      <td>0.087710</td>\n",
              "      <td>0.045108</td>\n",
              "      <td>45.107861</td>\n",
              "    </tr>\n",
              "  </tbody>\n",
              "</table>\n",
              "</div>"
            ],
            "text/plain": [
              "              dist_cm   nivel_cm  ...  vazao(m3/s)  vazao(l/s)\n",
              "data                              ...                         \n",
              "2020-08-05  65.107778  18.692222  ...     0.085842   85.842210\n",
              "2020-08-06  64.665532  19.134468  ...     0.090126   90.125773\n",
              "2020-08-07  64.131286  19.668714  ...     0.095439   95.438935\n",
              "2020-08-08        NaN        NaN  ...          NaN         NaN\n",
              "2020-08-09        NaN        NaN  ...          NaN         NaN\n",
              "2020-08-10  68.856042  14.943958  ...     0.053739   53.738625\n",
              "2020-08-11  69.920625  13.879375  ...     0.046000   46.000226\n",
              "2020-08-12  69.569474  14.230526  ...     0.048485   48.484994\n",
              "2020-08-13  67.331474  16.468526  ...     0.065886   65.886069\n",
              "2020-08-14  68.783333  15.016667  ...     0.054289   54.289484\n",
              "2020-08-15  63.792500  20.007500  ...     0.098887   98.886531\n",
              "2020-08-16  62.945745  20.854255  ...     0.107768  107.768282\n",
              "2020-08-17  66.854842  16.945158  ...     0.069940   69.940478\n",
              "2020-08-18  63.923474  19.876526  ...     0.097547   97.546503\n",
              "2020-08-19  62.907065  20.892935  ...     0.108183  108.183011\n",
              "2020-08-20  62.661474  21.138526  ...     0.110835  110.834617\n",
              "2020-08-21  65.785275  18.014725  ...     0.079482   79.482013\n",
              "2020-08-22  67.277158  16.522842  ...     0.066342   66.341938\n",
              "2020-08-23  67.733438  16.066563  ...     0.062562   62.561742\n",
              "2020-08-24  68.381895  15.418105  ...     0.057382   57.382271\n",
              "2020-08-25  67.855158  15.944842  ...     0.061572   61.572242\n",
              "2020-08-26  67.973370  15.826630  ...     0.060619   60.618904\n",
              "2020-08-27  68.797000  15.003000  ...     0.054186   54.185723\n",
              "2020-08-28  68.135745  15.664255  ...     0.059322   59.321676\n",
              "2020-08-29  68.092903  15.707097  ...     0.059663   59.662560\n",
              "2020-08-30  68.919687  14.880312  ...     0.053259   53.258771\n",
              "2020-08-31  69.014271  14.785729  ...     0.052550   52.549706\n",
              "2020-09-01  69.222234  14.577766  ...     0.051008   51.007663\n",
              "2020-09-02  69.941354  13.858646  ...     0.045856   45.855630\n",
              "2020-09-03  69.036146  14.763854  ...     0.052386   52.386404\n",
              "2020-09-04  69.180625  14.619375  ...     0.051314   51.314323\n",
              "2020-09-05  70.039167  13.760833  ...     0.045176   45.176480\n",
              "2020-09-06  69.369271  14.430729  ...     0.049931   49.931494\n",
              "2020-09-07  69.545625  14.254375  ...     0.048656   48.656168\n",
              "2020-09-08  70.132553  13.667447  ...     0.044533   44.532892\n",
              "2020-09-09  69.276632  14.523368  ...     0.050608   50.608163\n",
              "2020-09-10  69.350208  14.449792  ...     0.050070   50.070354\n",
              "2020-09-11  70.118404  13.681596  ...     0.044630   44.630099\n",
              "2020-09-12  69.294271  14.505729  ...     0.050479   50.478962\n",
              "2020-09-13  69.494000  14.306000  ...     0.049028   49.027759\n",
              "2020-09-14  70.350526  13.449474  ...     0.043049   43.049065\n",
              "2020-09-15  69.438542  14.361458  ...     0.049429   49.428548\n",
              "2020-09-16  69.929688  13.870312  ...     0.045937   45.936982\n",
              "2020-09-17  71.443579  12.356421  ...     0.035996   35.996160\n",
              "2020-09-18  70.734184  13.065816  ...     0.040500   40.499839\n",
              "2020-09-19  70.735054  13.064946  ...     0.040494   40.494148\n",
              "2020-09-20  71.639789  12.160211  ...     0.034799   34.798599\n",
              "2020-09-21  70.977292  12.822708  ...     0.038926   38.925749\n",
              "2020-09-22  71.135104  12.664896  ...     0.037921   37.921065\n",
              "2020-09-23  71.642105  12.157895  ...     0.034785   34.784590\n",
              "2020-09-24  70.552632  13.247368  ...     0.041696   41.696236\n",
              "2020-09-25  70.846042  12.953958  ...     0.039772   39.771599\n",
              "2020-09-26  71.444787  12.355213  ...     0.035989   35.988721\n",
              "2020-09-27  70.375532  13.424468  ...     0.042880   42.880486\n",
              "2020-09-28  65.478947  18.321053  ...     0.082327   82.327432\n",
              "2020-09-29  70.298958  13.501042  ...     0.043398   43.397785\n",
              "2020-09-30  70.049091  13.750909  ...     0.045108   45.107861\n",
              "\n",
              "[57 rows x 8 columns]"
            ]
          },
          "metadata": {
            "tags": []
          },
          "execution_count": 22
        }
      ]
    },
    {
      "cell_type": "code",
      "metadata": {
        "id": "42gsdJnwd-JD",
        "colab": {
          "base_uri": "https://localhost:8080/",
          "height": 320
        },
        "outputId": "30f1089d-94d2-434c-80a5-3d993bb7002f"
      },
      "source": [
        "plt.figure(figsize=(10,5))\n",
        "plt.plot(medias['vazao(m3/s)'],color='blue')\n",
        "plt.ylabel('Vazão (m3/s)');"
      ],
      "execution_count": null,
      "outputs": [
        {
          "output_type": "display_data",
          "data": {
            "image/png": "[encoded data removed]",
            "text/plain": [
              "<Figure size 720x360 with 1 Axes>"
            ]
          },
          "metadata": {
            "tags": [],
            "needs_background": "light"
          }
        }
      ]
    },
    {
      "cell_type": "code",
      "metadata": {
        "id": "8XSSd6dw-W5p",
        "colab": {
          "base_uri": "https://localhost:8080/"
        },
        "outputId": "6e63281f-3462-458a-e349-f3a171ff52cd"
      },
      "source": [
        "medias['vazao(m3/s)'].median()"
      ],
      "execution_count": null,
      "outputs": [
        {
          "output_type": "execute_result",
          "data": {
            "text/plain": [
              "0.010101093415513032"
            ]
          },
          "metadata": {
            "tags": []
          },
          "execution_count": 42
        }
      ]
    },
    {
      "cell_type": "code",
      "metadata": {
        "id": "e5PMiZHlaFhH",
        "colab": {
          "base_uri": "https://localhost:8080/",
          "height": 402
        },
        "outputId": "388763dd-0b9b-4a3e-e136-c4b81a1c3ec3"
      },
      "source": [
        "plt.figure(figsize=(10,5))\n",
        "plt.hist(medias['vazao(m3/s)'],bins=20,color='blue',histtype='bar',edgecolor='white')\n",
        "plt.xlabel('Vazão (m3/s)')\n",
        "plt.ylabel('Frequência');"
      ],
      "execution_count": null,
      "outputs": [
        {
          "output_type": "stream",
          "text": [
            "/usr/local/lib/python3.6/dist-packages/numpy/lib/histograms.py:839: RuntimeWarning: invalid value encountered in greater_equal\n",
            "  keep = (tmp_a >= first_edge)\n",
            "/usr/local/lib/python3.6/dist-packages/numpy/lib/histograms.py:840: RuntimeWarning: invalid value encountered in less_equal\n",
            "  keep &= (tmp_a <= last_edge)\n"
          ],
          "name": "stderr"
        },
        {
          "output_type": "display_data",
          "data": {
            "image/png": "[encoded data removed]",
            "text/plain": [
              "<Figure size 720x360 with 1 Axes>"
            ]
          },
          "metadata": {
            "tags": [],
            "needs_background": "light"
          }
        }
      ]
    },
    {
      "cell_type": "code",
      "metadata": {
        "colab": {
          "base_uri": "https://localhost:8080/"
        },
        "id": "m3QtTuaDtzt1",
        "outputId": "3cf4e548-18cc-4b6f-d02d-895d21b4fa39"
      },
      "source": [
        "type(vazao)"
      ],
      "execution_count": null,
      "outputs": [
        {
          "output_type": "execute_result",
          "data": {
            "text/plain": [
              "numpy.ndarray"
            ]
          },
          "metadata": {
            "tags": []
          },
          "execution_count": 44
        }
      ]
    },
    {
      "cell_type": "code",
      "metadata": {
        "id": "oLJK9ZQluPhK"
      },
      "source": [
        "#medias['vazao(m3/s)'].dropnan\n",
        "\n",
        "medias['vazao(m3/s)'] = medias['vazao(m3/s)'].dropna()"
      ],
      "execution_count": null,
      "outputs": []
    },
    {
      "cell_type": "code",
      "metadata": {
        "colab": {
          "base_uri": "https://localhost:8080/"
        },
        "id": "XTfpV40Iu9bA",
        "outputId": "0568be04-4b34-478c-f3a2-1a3d2d1338de"
      },
      "source": [
        "medias['vazao(m3/s)']"
      ],
      "execution_count": null,
      "outputs": [
        {
          "output_type": "execute_result",
          "data": {
            "text/plain": [
              "data\n",
              "2020-08-05    0.017134\n",
              "2020-08-06    0.017989\n",
              "2020-08-07    0.019049\n",
              "2020-08-08         NaN\n",
              "2020-08-09         NaN\n",
              "2020-08-10    0.010726\n",
              "2020-08-11    0.009181\n",
              "2020-08-12    0.009677\n",
              "2020-08-13    0.013150\n",
              "2020-08-14    0.010836\n",
              "2020-08-15    0.019737\n",
              "2020-08-16    0.021510\n",
              "2020-08-17    0.013960\n",
              "2020-08-18    0.019470\n",
              "2020-08-19    0.021593\n",
              "2020-08-20    0.022122\n",
              "2020-08-21    0.015864\n",
              "2020-08-22    0.013241\n",
              "2020-08-23    0.012487\n",
              "2020-08-24    0.011453\n",
              "2020-08-25    0.012289\n",
              "2020-08-26    0.012099\n",
              "2020-08-27    0.010815\n",
              "2020-08-28    0.011840\n",
              "2020-08-29    0.011908\n",
              "2020-08-30    0.010630\n",
              "2020-08-31    0.010489\n",
              "2020-09-01    0.010181\n",
              "2020-09-02    0.009153\n",
              "2020-09-03    0.010456\n",
              "2020-09-04    0.010242\n",
              "2020-09-05    0.009017\n",
              "2020-09-06    0.009966\n",
              "2020-09-07    0.009711\n",
              "2020-09-08    0.008889\n",
              "2020-09-09    0.010101\n",
              "2020-09-10    0.009994\n",
              "2020-09-11    0.008908\n",
              "2020-09-12    0.010075\n",
              "2020-09-13    0.009786\n",
              "2020-09-14    0.008592\n",
              "2020-09-15    0.009866\n",
              "2020-09-16    0.009169\n",
              "2020-09-17    0.007185\n",
              "2020-09-18    0.008084\n",
              "2020-09-19    0.008082\n",
              "2020-09-20    0.006946\n",
              "2020-09-21    0.007769\n",
              "2020-09-22    0.007569\n",
              "2020-09-23    0.006943\n",
              "2020-09-24    0.008322\n",
              "2020-09-25    0.007938\n",
              "2020-09-26    0.007183\n",
              "2020-09-27    0.008559\n",
              "2020-09-28    0.016432\n",
              "2020-09-29    0.008662\n",
              "2020-09-30    0.009003\n",
              "Freq: D, Name: vazao(m3/s), dtype: float64"
            ]
          },
          "metadata": {
            "tags": []
          },
          "execution_count": 46
        }
      ]
    },
    {
      "cell_type": "code",
      "metadata": {
        "id": "SYQTLAvtafFk",
        "colab": {
          "base_uri": "https://localhost:8080/",
          "height": 17
        },
        "outputId": "18a165b8-e7be-466a-e6b6-9485abec03ac"
      },
      "source": [
        "from google.colab import files\n",
        "medias.to_csv('vazao_medido.csv')\n",
        "files.download('vazao_medido.csv')"
      ],
      "execution_count": null,
      "outputs": [
        {
          "output_type": "display_data",
          "data": {
            "application/javascript": [
              "\n",
              "    async function download(id, filename, size) {\n",
              "      if (!google.colab.kernel.accessAllowed) {\n",
              "        return;\n",
              "      }\n",
              "      const div = document.createElement('div');\n",
              "      const label = document.createElement('label');\n",
              "      label.textContent = `Downloading \"${filename}\": `;\n",
              "      div.appendChild(label);\n",
              "      const progress = document.createElement('progress');\n",
              "      progress.max = size;\n",
              "      div.appendChild(progress);\n",
              "      document.body.appendChild(div);\n",
              "\n",
              "      const buffers = [];\n",
              "      let downloaded = 0;\n",
              "\n",
              "      const channel = await google.colab.kernel.comms.open(id);\n",
              "      // Send a message to notify the kernel that we're ready.\n",
              "      channel.send({})\n",
              "\n",
              "      for await (const message of channel.messages) {\n",
              "        // Send a message to notify the kernel that we're ready.\n",
              "        channel.send({})\n",
              "        if (message.buffers) {\n",
              "          for (const buffer of message.buffers) {\n",
              "            buffers.push(buffer);\n",
              "            downloaded += buffer.byteLength;\n",
              "            progress.value = downloaded;\n",
              "          }\n",
              "        }\n",
              "      }\n",
              "      const blob = new Blob(buffers, {type: 'application/binary'});\n",
              "      const a = document.createElement('a');\n",
              "      a.href = window.URL.createObjectURL(blob);\n",
              "      a.download = filename;\n",
              "      div.appendChild(a);\n",
              "      a.click();\n",
              "      div.remove();\n",
              "    }\n",
              "  "
            ],
            "text/plain": [
              "<IPython.core.display.Javascript object>"
            ]
          },
          "metadata": {
            "tags": []
          }
        },
        {
          "output_type": "display_data",
          "data": {
            "application/javascript": [
              "download(\"download_63166d35-d521-4d69-972a-89446a35822e\", \"vazao_medido.csv\", 9068)"
            ],
            "text/plain": [
              "<IPython.core.display.Javascript object>"
            ]
          },
          "metadata": {
            "tags": []
          }
        }
      ]
    },
    {
      "cell_type": "markdown",
      "metadata": {
        "id": "_99EFLU4gnoH"
      },
      "source": [
        "###COMPARAÇÃO DAS VAZÕES \n",
        "###ponto exutório na medição de nível\n",
        "###dados metereológicos:\n",
        "* inmet\n",
        "    \n",
        "    vs \n",
        "    \n",
        "* simepar"
      ]
    },
    {
      "cell_type": "code",
      "metadata": {
        "id": "B3DEbCiSAmiQ",
        "colab": {
          "base_uri": "https://localhost:8080/"
        },
        "outputId": "f937ec4a-f216-46d6-f46b-8d19f71a38ba"
      },
      "source": [
        "from urllib.request import urlretrieve\n",
        "URL = 'https://www.dropbox.com/s/e8k9afa5ozl9bx7/watout.pedreira2_2003_2016.csv?dl=1'\n",
        "urlretrieve(URL, 'watout.pedreira2_2003_2016.csv')"
      ],
      "execution_count": null,
      "outputs": [
        {
          "output_type": "execute_result",
          "data": {
            "text/plain": [
              "('watout.pedreira2_2003_2016.csv', <http.client.HTTPMessage at 0x7f4896731b70>)"
            ]
          },
          "metadata": {
            "tags": []
          },
          "execution_count": 1
        }
      ]
    },
    {
      "cell_type": "code",
      "metadata": {
        "colab": {
          "base_uri": "https://localhost:8080/",
          "height": 197
        },
        "id": "dADKKJDNjWVd",
        "outputId": "fb9576fd-40ed-4266-fd76-761a404bfb20"
      },
      "source": [
        "vazao_inmet=pandas.read_csv(URL,sep=';',index_col=0)\n",
        "\n",
        "vazao_inmet[0:3]"
      ],
      "execution_count": null,
      "outputs": [
        {
          "output_type": "error",
          "ename": "NameError",
          "evalue": "ignored",
          "traceback": [
            "\u001b[0;31m---------------------------------------------------------------------------\u001b[0m",
            "\u001b[0;31mNameError\u001b[0m                                 Traceback (most recent call last)",
            "\u001b[0;32m<ipython-input-2-aa5be6d83e9e>\u001b[0m in \u001b[0;36m<module>\u001b[0;34m()\u001b[0m\n\u001b[0;32m----> 1\u001b[0;31m \u001b[0mvazao_inmet\u001b[0m\u001b[0;34m=\u001b[0m\u001b[0mpandas\u001b[0m\u001b[0;34m.\u001b[0m\u001b[0mread_csv\u001b[0m\u001b[0;34m(\u001b[0m\u001b[0mURL\u001b[0m\u001b[0;34m,\u001b[0m\u001b[0msep\u001b[0m\u001b[0;34m=\u001b[0m\u001b[0;34m';'\u001b[0m\u001b[0;34m,\u001b[0m\u001b[0mindex_col\u001b[0m\u001b[0;34m=\u001b[0m\u001b[0;36m0\u001b[0m\u001b[0;34m)\u001b[0m\u001b[0;34m\u001b[0m\u001b[0;34m\u001b[0m\u001b[0m\n\u001b[0m\u001b[1;32m      2\u001b[0m \u001b[0;34m\u001b[0m\u001b[0m\n\u001b[1;32m      3\u001b[0m \u001b[0mvazao_inmet\u001b[0m\u001b[0;34m[\u001b[0m\u001b[0;36m0\u001b[0m\u001b[0;34m:\u001b[0m\u001b[0;36m3\u001b[0m\u001b[0;34m]\u001b[0m\u001b[0;34m\u001b[0m\u001b[0;34m\u001b[0m\u001b[0m\n",
            "\u001b[0;31mNameError\u001b[0m: name 'pandas' is not defined"
          ]
        }
      ]
    },
    {
      "cell_type": "code",
      "metadata": {
        "id": "gLIMfcFXrG-N"
      },
      "source": [
        "yeardatescalendar"
      ],
      "execution_count": null,
      "outputs": []
    },
    {
      "cell_type": "code",
      "metadata": {
        "id": "E90aoxiPk4kb"
      },
      "source": [
        "vazao_inmet = vazao_inmet.set_index('Day_Step')\n",
        "vazao_inmet"
      ],
      "execution_count": null,
      "outputs": []
    },
    {
      "cell_type": "code",
      "metadata": {
        "id": "qC5QhzWCjiTK"
      },
      "source": [
        "from urllib.request import urlretrieve\n",
        "URL = 'https://www.dropbox.com/s/zj1ffdt4elwc8q6/watout.pedreira3_2003_2016.csv?dl=1'\n",
        "urlretrieve(URL, 'watout.pedreira3_2003_2016.csv')"
      ],
      "execution_count": null,
      "outputs": []
    },
    {
      "cell_type": "code",
      "metadata": {
        "id": "QwZMEt2vjiKU"
      },
      "source": [
        "vazao_simepar=pandas.read_csv(URL,sep=';',index_col=0)\n",
        "\n",
        "vazao_simepar[0:3]"
      ],
      "execution_count": null,
      "outputs": []
    },
    {
      "cell_type": "code",
      "metadata": {
        "id": "s7rUq2VNk22A"
      },
      "source": [
        "vazao_simepar = vazao_simepar.set_index('Day')\n",
        "vazao_simepar"
      ],
      "execution_count": null,
      "outputs": []
    },
    {
      "cell_type": "code",
      "metadata": {
        "id": "TOFMf5qxj1Jg"
      },
      "source": [
        "plt.figure(figsize=(20,10))\n",
        "#plt.plot(vazao_inmet['FLOWm^3/s_pedreira_inmet'],color='blue')\n",
        "plt.plot(vazao_simepar['FLOWm^3/s_pedreira_simepar'],color='blue')\n",
        "plt.xlabel('Dias');\n",
        "plt.ylabel('Vazão (m3/s)');"
      ],
      "execution_count": null,
      "outputs": []
    },
    {
      "cell_type": "code",
      "metadata": {
        "id": "QjRt-TJpj07r"
      },
      "source": [
        ""
      ],
      "execution_count": null,
      "outputs": []
    }
  ]
}